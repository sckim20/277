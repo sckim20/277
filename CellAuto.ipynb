{
 "cells": [
  {
   "cell_type": "markdown",
   "metadata": {},
   "source": [
    "The autograder will run with the following imports (and only the following imports). Depending on your notebook setup you may not actually need these imports, but its worth running this once at the start to be sure."
   ]
  },
  {
   "cell_type": "code",
   "execution_count": 3,
   "metadata": {},
   "outputs": [],
   "source": [
    "import numpy as np\n",
    "import matplotlib.pyplot as plt\n",
    "import matplotlib.animation as animation\n",
    "from matplotlib import colors\n",
    "import pandas as pd"
   ]
  },
  {
   "cell_type": "code",
   "execution_count": 4,
   "metadata": {},
   "outputs": [],
   "source": [
    "#grade\n",
    "\n",
    "#INPUT:\n",
    "# An integer rows storing the number of rows\n",
    "# An integer cols storing the number of columns\n",
    "#OUTPUT:\n",
    "# A list of lists forming a 2D matrix.\n",
    "# The output must be either a numpy.ndarray or a built-in python nested list\n",
    "\n",
    "def emptyMatrix(rows, cols):\n",
    "    #YOUR CODE HERE\n",
    "    a=[]\n",
    "    for i in range(rows):\n",
    "        row = [float(0)]*cols\n",
    "        a.append(row)\n",
    "\n",
    "    return a"
   ]
  },
  {
   "cell_type": "code",
   "execution_count": 5,
   "metadata": {},
   "outputs": [],
   "source": [
    "#grade\n",
    "\n",
    "#INPUT:\n",
    "#A lists of lists forming a 2D matrix (using a built-in list)\n",
    "#OUTPUT:\n",
    "# A list of size 2 storing the number of rows at index 0 \n",
    "# and the number of columns at index 1\n",
    "def getSize(matrix):\n",
    "    # YOUR CODE HERE\n",
    "    return matrix.shape"
   ]
  },
  {
   "cell_type": "code",
   "execution_count": 6,
   "metadata": {},
   "outputs": [],
   "source": [
    "#grade\n",
    "\n",
    "#INPUT:\n",
    "# A lists of lists forming a 2D matrix (using a built-in list)\n",
    "# A string fName storing the absolute path to a space-separated text file\n",
    "#OUTPUT:\n",
    "# A list of lists forming a 2D matrix.\n",
    "# The output must be either a numpy.ndarray or a built-in python nested list\n",
    "# The matrix should be the same dimensions as the input and must include all x,y pairs \n",
    "# found in the input file.\n",
    "# NOTE: If an input pair has a coordinate larger than the matrix, it should be ignored\n",
    "def importValues(matrix, fName):\n",
    "    with open(fName, 'r') as f:\n",
    "        m = f.readlines()\n",
    "        new_matrix = np.zeros((len(matrix), len(matrix[0])))\n",
    "        for i in m:\n",
    "            a,b = map(int, i.strip().split())\n",
    "            a=int(a)\n",
    "            b=int(b)\n",
    "            if a< 0 or b< 0 or a >= len(matrix) or b>= len(matrix[0]):\n",
    "                continue\n",
    "            new_matrix[a][b] = 1\n",
    "    return new_matrix.tolist()\n",
    "\n"
   ]
  },
  {
   "cell_type": "code",
   "execution_count": 7,
   "metadata": {},
   "outputs": [],
   "source": [
    "#grade\n",
    "\n",
    "#INPUT:\n",
    "# A lists of lists forming a 2D matrix (using a built-in list)\n",
    "#OUTPUT:\n",
    "# A list of lists forming a 2D matrix.\n",
    "# The output must be either a numpy.ndarray or a built-in python nested list\n",
    "# The matrix should be the same dimensions as the input and be the next timestamp\n",
    "# of cellular automata. Your logic should consider indices past matrix boundaries 'empty'.\n",
    "# NOTE: You should return a deep copy of the matrix, not a shallow one!\n",
    "def update(matrix):\n",
    "    #YOUR CODE HERE\n",
    "    row = len(matrix)\n",
    "    col = len(matrix[0])\n",
    "    new_matrix = np.zeros((row,col), dtype=int)\n",
    "    for i in range(row):\n",
    "        for c in range(col):\n",
    "            a = 0\n",
    "            for r in range(-1, 2):\n",
    "                for l in range(-1,2):  \n",
    "                    if r == 0 and l == 0:\n",
    "                        continue\n",
    "                    if (i+r < 0) or (c+l < 0) or (i+r >= row) or (c+l >= col):\n",
    "                        continue\n",
    "                    if matrix[i+r][c+l]==1:\n",
    "                        a += 1\n",
    "                        \n",
    "            if (matrix[i][c] ==1) and ((a==2) or (a==3)):\n",
    "                new_matrix[i][c] = 1\n",
    "            elif (matrix[i][c] == 0) and (a ==3):\n",
    "                new_matrix[i][c] = 1\n",
    "            elif (matrix[i][c] == 1) and (a >3):\n",
    "                new_matrix[i][c] = 0\n",
    "            elif (matrix[i][c] == 1) and (a <2):\n",
    "                new_matrix[i][c] = 0\n",
    "        \n",
    "    return new_matrix\n"
   ]
  },
  {
   "cell_type": "markdown",
   "metadata": {},
   "source": [
    "**Animation Code** In order to complete the autograded portion of this mini-project, you do not need to edit or modify the following functions. However you may want to modify things like the color, the framerate, or color boundaries when you visualize your own dataset."
   ]
  },
  {
   "cell_type": "code",
   "execution_count": 10,
   "metadata": {},
   "outputs": [],
   "source": [
    "#INPUT:\n",
    "# a frameNumber\n",
    "# a matplotlib AxesImage object\n",
    "# a 2D matrix (Notably this can be a 3D matrix as well with individual colors as RGBs)\n",
    "#OUTPUT:\n",
    "# a matplotlib AxesImage object containing the updated matrix\n",
    "def updateFig(frameNum, img, matrix):\n",
    "    # The first frame should be the actual input dataset, not the first update step.\n",
    "    if (frameNum == 0):\n",
    "        return img    \n",
    "\n",
    "    # NOTE: If you are making a gif for part 2, you will probably want to replace this\n",
    "    # The main point is that you need to both update matrix and img with the new frame\n",
    "    nm = update(matrix)\n",
    "    \n",
    "    matrix[:] = nm[:]\n",
    "\n",
    "    img.set_data(nm)\n",
    "\n",
    "    return img\n",
    "\n",
    "#INPUT:\n",
    "# a 2D matrix (Notably this can be a 3D matrix as well with individual colors as RGBs)\n",
    "# an integer storing the number of steps\n",
    "# a string storing the path and filename of the file to be written\n",
    "#OUTPUT:\n",
    "# None\n",
    "# Instead an image or gif is saved to the location specified by outname\n",
    "def animate(matrix, steps, outname):\n",
    "    matrix = np.array(matrix)\n",
    "    \n",
    "    # NOTE: If you change these two lines you can adjust the color and bin sizes\n",
    "    # This is only relevant for part 2 -- this code is not used or graded by the autograder\n",
    "    cmap = colors.ListedColormap(['blue', 'yellow', 'red']) \n",
    "    bounds = [0, 1, 2, 3]\n",
    "\n",
    "\n",
    "    norm = colors.BoundaryNorm(bounds, cmap.N)\n",
    "\n",
    "    fig, ax = plt.subplots()\n",
    "    plt.grid(False)\n",
    "    img = ax.imshow(matrix, cmap=cmap, norm=norm)\n",
    "    ani = animation.FuncAnimation(fig, updateFig, fargs=(img, matrix), frames=steps)\n",
    "\n",
    "\n",
    "    ani.save(outname, fps=2)"
   ]
  },
  {
   "cell_type": "code",
   "execution_count": 29,
   "metadata": {},
   "outputs": [],
   "source": [
    "df = pd.read_csv(\"data.csv\")\n",
    "df1 = df[[\"radius_mean\",\"perimeter_mean\"]]\n",
    "df1\n",
    "np.savetxt(r'cancer.txt', df1, fmt='%d')"
   ]
  },
  {
   "cell_type": "markdown",
   "metadata": {},
   "source": [
    "Run-Code"
   ]
  },
  {
   "cell_type": "code",
   "execution_count": 34,
   "metadata": {},
   "outputs": [
    {
     "name": "stderr",
     "output_type": "stream",
     "text": [
      "MovieWriter ffmpeg unavailable; using Pillow instead.\n"
     ]
    },
    {
     "data": {
      "image/png": "[encoded data removed]",
      "text/plain": [
       "<Figure size 640x480 with 1 Axes>"
      ]
     },
     "metadata": {},
     "output_type": "display_data"
    }
   ],
   "source": [
    "\n",
    "myFile = 'cancer.txt'\n",
    "xdim = 20\n",
    "ydim = 150\n",
    "\n",
    "em = emptyMatrix(xdim,ydim) \n",
    "em = importValues(em, myFile)\n",
    "\n",
    "animate(em, 10, 'mom.gif')\n",
    "\n",
    "# Here are the commands I used to produce the example gifs:\n",
    "# (You will have to adjust 'myFile' as well as the x and y dimensions to match)\n",
    "#animate(em, 30, 'horizLine_10_10_out.gif')\n",
    "#animate(em, 15, 'multiSpinner_12_12.gif')\n",
    "#animate(em, 15, 'horizLine_5_5_out.gif')\n",
    "#animate(em, 20, 'vanish_5_5_out.gif')\n",
    "#animate(em, 10, 'spinner_3_3_out.gif')\n",
    "#animate(em, 100, 'crazy_25_25_out.gif')\n",
    "#animate(em, 2, 'vertLine_5_5_out.gif')"
   ]
  },
  {
   "cell_type": "code",
   "execution_count": null,
   "metadata": {},
   "outputs": [],
   "source": []
  }
 ],
 "metadata": {
  "kernelspec": {
   "display_name": "base",
   "language": "python",
   "name": "python3"
  },
  "language_info": {
   "codemirror_mode": {
    "name": "ipython",
    "version": 3
   },
   "file_extension": ".py",
   "mimetype": "text/x-python",
   "name": "python",
   "nbconvert_exporter": "python",
   "pygments_lexer": "ipython3",
   "version": "3.9.13"
  },
  "vscode": {
   "interpreter": {
    "hash": "1d35dd254a87c6aab829c04ae6e0654b5bcc06e2c42f8da454301834fa420caf"
   }
  }
 },
 "nbformat": 4,
 "nbformat_minor": 4
}
