{
 "cells": [
  {
   "cell_type": "markdown",
   "metadata": {},
   "source": [
    "The autograder will run with the following imports (and only the following imports). As both of these imports are required, in order to work on this assignment locally, you should follow the instructions on the webpage. "
   ]
  },
  {
   "cell_type": "code",
   "execution_count": 110,
   "metadata": {},
   "outputs": [],
   "source": [
    "import mmh3\n",
    "import BitVector as bv\n",
    "import string\n",
    "import pandas as pd"
   ]
  },
  {
   "cell_type": "markdown",
   "metadata": {},
   "source": [
    "For this MP, you will be using the [mmh3 hash](https://pypi.org/project/mmh3/). This hash is very efficient and great for real world data although ironically the data provided and used by the autograder will be using it in exactly the wrong context. To quote the authors:\n",
    "\n",
    "*As MurMur3 creates a fairly big print (128 bits), so it’s not recommended to use it for hashing small data sets like words, short strings, integers and so on. The embedded hash functions for these simple and small data types provide excellent performance with low collision rate. So anything that is less than a couple dozen, or preferably hundreds of bytes is not a good candidate.*"
   ]
  },
  {
   "cell_type": "code",
   "execution_count": 111,
   "metadata": {},
   "outputs": [],
   "source": [
    "#INPUT:\n",
    "# A hashable datatype (probably string) value containing the object being hashed\n",
    "# An optional integer argument seed storing the seed to provide mmh3\n",
    "#OUTPUT:\n",
    "# An integer value containing the output hash value for the input object\n",
    "\n",
    "def seededHash(value, seed=None):\n",
    "    if seed:\n",
    "        return mmh3.hash(value, seed)\n",
    "    return mmh3.hash(value)"
   ]
  },
  {
   "cell_type": "code",
   "execution_count": 112,
   "metadata": {},
   "outputs": [],
   "source": [
    "#grade\n",
    "\n",
    "#INPUT:\n",
    "# A set (inSet) storing the collection of hashable values that define a single object\n",
    "# An integer (k) storing the number of hash minima you need to keep track of\n",
    "# An optional argument (seed) which sets the random seed used to generate the hash function\n",
    "#OUTPUT:\n",
    "# A set of integers storing the k-minimum hash values produced by passing each item in inSet through seededHash\n",
    "def minHash(inSet, k, seed=None):\n",
    "    a=[]\n",
    "    for i in inSet:\n",
    "        a.append(seededHash(i, seed))\n",
    "    return set(sorted(a)[:k])"
   ]
  },
  {
   "cell_type": "code",
   "execution_count": 113,
   "metadata": {},
   "outputs": [],
   "source": [
    "#grade\n",
    "\n",
    "#INPUT:\n",
    "# A set (inSet) storing the collection of hashable values that define a single object\n",
    "# An integer (m) storing the size of the bloom filter being constructed\n",
    "# Two optional integer arguments (hs1 and hs2) storing hash seeds for the BF's first and second hash\n",
    "#OUTPUT:\n",
    "# A BitVector of size m containing all input items hashed using both hs1 and hs2 seeds\n",
    "def bloomFilter(inSet, m, hs1=0, hs2=10):\n",
    "    bvector = bv.BitVector(size = m)\n",
    "    for i in inSet:\n",
    "        b=[]\n",
    "        h1=(seededHash(i,hs1))%m\n",
    "        h2=(seededHash(i,hs2))%m\n",
    "        bvector[h1]=1\n",
    "        bvector[h2]=1\n",
    "    return bvector"
   ]
  },
  {
   "cell_type": "code",
   "execution_count": 114,
   "metadata": {},
   "outputs": [],
   "source": [
    "#grade\n",
    "\n",
    "#INPUT:\n",
    "# Two input sets (inSet1 and inSet2) containing sets of the same hashable data type\n",
    "#OUTPUT:\n",
    "# A float value between 0 and 1 corresponding to the Jaccard similarity between input sets\n",
    "# NOTE: You can use this function to calculate the exact similarity between raw datasets\n",
    "# and also the Minhash similarity (since a Minhash sketch is *literally* just a set)\n",
    "def jaccard(inSet1, inSet2):\n",
    "    #YOUR CODE HERE\n",
    "    a = inSet1.intersection(inSet2)\n",
    "    b = inSet1.union(inSet2)\n",
    "    c = len(a)/len(b)\n",
    "    \n",
    "    return c"
   ]
  },
  {
   "cell_type": "code",
   "execution_count": 115,
   "metadata": {},
   "outputs": [],
   "source": [
    "#grade\n",
    "\n",
    "#INPUT:\n",
    "# Two input BitVectors (bf1 and bf2) containing two equal length bloom filters\n",
    "#OUTPUT:\n",
    "# A float value between 0 and 1 corresponding to the Jaccard similarity between input sets\n",
    "def bf_jaccard(bf1, bf2):\n",
    "    a = 0\n",
    "    b = 0\n",
    "    bf1_list = list(bf1)\n",
    "    bf2_list = list(bf2)\n",
    "    for i in range(len(bf1_list)):\n",
    "        if bf1_list[i] == bf2_list[i] and bf1_list[i] == 1:\n",
    "            a += 1\n",
    "            b += 1\n",
    "        elif (bf1_list[i] == 1 and bf2_list[i] != 1) or (bf2_list[i] == 1 and bf1_list[i] != 1):\n",
    "            b += 1\n",
    "        \n",
    "    return a / b\n"
   ]
  },
  {
   "cell_type": "code",
   "execution_count": 116,
   "metadata": {},
   "outputs": [],
   "source": [
    "#grade\n",
    "\n",
    "#INPUT:\n",
    "# A BitVector object bf, containing a bloom filter\n",
    "# A hashable data type (probably string) val, containing the value being searched for\n",
    "# Two optional integer arguments storing hash seeds for the BF's first and second hash\n",
    "#OUTPUT:\n",
    "# A bool (True or False) based on whether or not val is present in BF.\n",
    "# NOTE: The Bloom Filter is probabilistic and some of the time will return 'True' \n",
    "# even if the item is not present.\n",
    "def bf_find(bf, val, hs1=0, hs2=10):\n",
    "    a = (seededHash(val,hs1))%len(str(bf))\n",
    "    b = (seededHash(val,hs2))%len(str(bf))\n",
    "    if bf[a] == 1 and bf[b] ==1:\n",
    "        return 1\n",
    "    else:\n",
    "        return 0\n"
   ]
  },
  {
   "cell_type": "markdown",
   "metadata": {},
   "source": [
    "Run-Code"
   ]
  },
  {
   "cell_type": "code",
   "execution_count": 117,
   "metadata": {},
   "outputs": [
    {
     "name": "stdout",
     "output_type": "stream",
     "text": [
      "601558399\n",
      "raw: 0.14285714285714285\n",
      "mh: 0.0\n",
      "bf: 0.21739130434782608\n",
      "raw: 0.06666666666666667\n",
      "mh: 0.0\n",
      "bf: 0.16666666666666666\n",
      "raw: 0.45454545454545453\n",
      "mh: 0.5\n",
      "bf: 0.5555555555555556\n",
      "0\n",
      "1\n",
      "1\n",
      "1\n",
      "0\n",
      "0\n"
     ]
    }
   ],
   "source": [
    "# An example on how to use seededHash\n",
    "print(seededHash('From', seed=4))\n",
    "\n",
    "s1 = set([\"1\", \"2\", \"3\", \"4\", \"5\", \"6\", \"7\", \"8\"])\n",
    "s2 = set([\"11\", \"12\", \"13\", \"4\", \"5\", \"16\", \"17\", \"18\"])\n",
    "s3 = set([\"11\", \"12\", \"13\", \"24\", \"25\", \"6\", \"17\", \"18\"])\n",
    "\n",
    "k = 3\n",
    "mh1 = minHash(s1, k)\n",
    "mh2 = minHash(s2, k)\n",
    "mh3 = minHash(s3, k)\n",
    "\n",
    "m = 50\n",
    "bf1 = bloomFilter(s1, m)\n",
    "bf2 = bloomFilter(s2, m)\n",
    "bf3 = bloomFilter(s3, m)\n",
    "\n",
    "print(\"raw:\", jaccard(s1, s2)) #0.14285714285714285\n",
    "print(\"mh:\", jaccard(mh1, mh2)) #0.0\n",
    "print(\"bf:\", bf_jaccard(bf1, bf2)) #0.21739130434782608\n",
    "\n",
    "print(\"raw:\", jaccard(s1, s3)) # 0.06666666666666667\n",
    "print(\"mh:\",jaccard(mh1, mh3)) # 0.0\n",
    "print(\"bf:\",bf_jaccard(bf1, bf3)) #0.16666666666666666\n",
    "\n",
    "print(\"raw:\",jaccard(s2, s3)) # 0.45454545454545453\n",
    "print(\"mh:\",jaccard(mh2, mh3)) # 0.5\n",
    "print(\"bf:\",bf_jaccard(bf2, bf3)) # 0.5555555555555556\n",
    "\n",
    "# BF will 100% of the time give the correct answer for items that exist\n",
    "findValue = \"11\"\n",
    "print(bf_find(bf1,findValue))\n",
    "print(bf_find(bf2, findValue))\n",
    "print(bf_find(bf3, findValue))\n",
    "\n",
    "# A small percentage of the time it will think an item exists that was not in the set\n",
    "findValue = \"9\"\n",
    "print(bf_find(bf1,findValue))\n",
    "print(bf_find(bf2, findValue))\n",
    "print(bf_find(bf3, findValue))\n"
   ]
  },
  {
   "cell_type": "markdown",
   "metadata": {},
   "source": [
    "Here's an example of a dataset analysis of just two items (using fixed values of k and m)! You should not use these same values without considering or testing alternatives, they likely won't work for your dataset."
   ]
  },
  {
   "cell_type": "code",
   "execution_count": 118,
   "metadata": {},
   "outputs": [
    {
     "data": {
      "text/html": [
       "<div>\n",
       "<style scoped>\n",
       "    .dataframe tbody tr th:only-of-type {\n",
       "        vertical-align: middle;\n",
       "    }\n",
       "\n",
       "    .dataframe tbody tr th {\n",
       "        vertical-align: top;\n",
       "    }\n",
       "\n",
       "    .dataframe thead th {\n",
       "        text-align: right;\n",
       "    }\n",
       "</style>\n",
       "<table border=\"1\" class=\"dataframe\">\n",
       "  <thead>\n",
       "    <tr style=\"text-align: right;\">\n",
       "      <th></th>\n",
       "      <th>Title</th>\n",
       "      <th>length total</th>\n",
       "      <th>Main Role</th>\n",
       "    </tr>\n",
       "  </thead>\n",
       "  <tbody>\n",
       "    <tr>\n",
       "      <th>0</th>\n",
       "      <td>Move to Heaven</td>\n",
       "      <td>520</td>\n",
       "      <td>Lee Je Hoon, Tang Jun Sang, Hong Seung Hee</td>\n",
       "    </tr>\n",
       "    <tr>\n",
       "      <th>1</th>\n",
       "      <td>Weak Hero Class 1</td>\n",
       "      <td>320</td>\n",
       "      <td>Park Ji Hoon, Hong Kyung, Choi Hyun Wook, Kim ...</td>\n",
       "    </tr>\n",
       "    <tr>\n",
       "      <th>2</th>\n",
       "      <td>Hospital Playlist Season 2</td>\n",
       "      <td>1200</td>\n",
       "      <td>Jo Jung Suk, Jung Kyung Ho, Jeon Mi Do, Yoo Ye...</td>\n",
       "    </tr>\n",
       "    <tr>\n",
       "      <th>3</th>\n",
       "      <td>Flower of Evil</td>\n",
       "      <td>1120</td>\n",
       "      <td>Lee Joon Gi, Jang Hee Jin, Moon Chae Won, Seo ...</td>\n",
       "    </tr>\n",
       "    <tr>\n",
       "      <th>4</th>\n",
       "      <td>Hospital Playlist</td>\n",
       "      <td>1080</td>\n",
       "      <td>Jo Jung Suk, Jung Kyung Ho, Jeon Mi Do, Yoo Ye...</td>\n",
       "    </tr>\n",
       "    <tr>\n",
       "      <th>5</th>\n",
       "      <td>Alchemy of Souls</td>\n",
       "      <td>1600</td>\n",
       "      <td>Lee Jae Wook, Hwang Min Hyun, Yoo Joon Sang, J...</td>\n",
       "    </tr>\n",
       "    <tr>\n",
       "      <th>6</th>\n",
       "      <td>Reply 1988</td>\n",
       "      <td>1900</td>\n",
       "      <td>Lee Hye Ri, Ryu Joon Yeol, Lee Dong Hwi, Go Ky...</td>\n",
       "    </tr>\n",
       "    <tr>\n",
       "      <th>7</th>\n",
       "      <td>My Mister</td>\n",
       "      <td>1232</td>\n",
       "      <td>Lee Sun Kyun, IU</td>\n",
       "    </tr>\n",
       "    <tr>\n",
       "      <th>8</th>\n",
       "      <td>The Glory Part 2</td>\n",
       "      <td>440</td>\n",
       "      <td>Song Hye Kyo, Im Ji Yeon, Park Sung Hoon, Lee ...</td>\n",
       "    </tr>\n",
       "    <tr>\n",
       "      <th>9</th>\n",
       "      <td>Under the Queen's Umbrella</td>\n",
       "      <td>1120</td>\n",
       "      <td>Kim Hye Soo, Choi Won Young, Moon Sang Min, Ch...</td>\n",
       "    </tr>\n",
       "  </tbody>\n",
       "</table>\n",
       "</div>"
      ],
      "text/plain": [
       "                         Title  length total  \\\n",
       "0               Move to Heaven           520   \n",
       "1           Weak Hero Class 1            320   \n",
       "2  Hospital Playlist Season 2           1200   \n",
       "3              Flower of Evil           1120   \n",
       "4           Hospital Playlist           1080   \n",
       "5            Alchemy of Souls           1600   \n",
       "6                  Reply 1988           1900   \n",
       "7                   My Mister           1232   \n",
       "8            The Glory Part 2            440   \n",
       "9  Under the Queen's Umbrella           1120   \n",
       "\n",
       "                                           Main Role  \n",
       "0         Lee Je Hoon, Tang Jun Sang, Hong Seung Hee  \n",
       "1  Park Ji Hoon, Hong Kyung, Choi Hyun Wook, Kim ...  \n",
       "2  Jo Jung Suk, Jung Kyung Ho, Jeon Mi Do, Yoo Ye...  \n",
       "3  Lee Joon Gi, Jang Hee Jin, Moon Chae Won, Seo ...  \n",
       "4  Jo Jung Suk, Jung Kyung Ho, Jeon Mi Do, Yoo Ye...  \n",
       "5  Lee Jae Wook, Hwang Min Hyun, Yoo Joon Sang, J...  \n",
       "6  Lee Hye Ri, Ryu Joon Yeol, Lee Dong Hwi, Go Ky...  \n",
       "7                                   Lee Sun Kyun, IU  \n",
       "8  Song Hye Kyo, Im Ji Yeon, Park Sung Hoon, Lee ...  \n",
       "9  Kim Hye Soo, Choi Won Young, Moon Sang Min, Ch...  "
      ]
     },
     "execution_count": 118,
     "metadata": {},
     "output_type": "execute_result"
    }
   ],
   "source": [
    "df=pd.read_csv(\"kdrama.csv\")\n",
    "\n",
    "df[\"length total\"] = df[\"Duration\"] * df[\"Episodes\"]\n",
    "df = df[[\"Title\", \"length total\", \"Main Role\"]]\n",
    "df_all = df\n",
    "df = df.head(10)\n",
    "df"
   ]
  },
  {
   "cell_type": "code",
   "execution_count": 119,
   "metadata": {},
   "outputs": [
    {
     "data": {
      "text/plain": [
       "{'Alchemy of Souls ',\n",
       " 'Flower of Evil ',\n",
       " 'Hospital Playlist ',\n",
       " 'Hospital Playlist Season 2 ',\n",
       " 'Move to Heaven',\n",
       " 'My Mister ',\n",
       " 'Reply 1988 ',\n",
       " 'The Glory Part 2 ',\n",
       " \"Under the Queen's Umbrella \",\n",
       " 'Weak Hero Class 1 '}"
      ]
     },
     "execution_count": 119,
     "metadata": {},
     "output_type": "execute_result"
    }
   ],
   "source": [
    "df[\"length total\"][0]\n",
    "sett = set(df[\"length total\"])\n",
    "settt = []\n",
    "for i in sett:\n",
    "    settt.append(str(i))\n",
    "sett = set(settt)\n",
    "sett\n",
    "\n",
    "df[\"Title\"][0]\n",
    "Titles = set(df[\"Title\"])\n",
    "Titless = []\n",
    "for i in Titles:\n",
    "    Titless.append(str(i))\n",
    "Titles = set(Titless)\n",
    "Titles"
   ]
  },
  {
   "cell_type": "code",
   "execution_count": 138,
   "metadata": {},
   "outputs": [
    {
     "data": {
      "text/plain": [
       "True"
      ]
     },
     "execution_count": 138,
     "metadata": {},
     "output_type": "execute_result"
    }
   ],
   "source": [
    "# Checking BloomFilter\n",
    "\n",
    "def bloomFilter(inSet, m, hs1=0, hs2=10):\n",
    "    bvector = bv.BitVector(size = m)\n",
    "    for i in inSet:\n",
    "        b=[]\n",
    "        h1=(seededHash(i,hs1))%m\n",
    "        h2=(seededHash(i,hs2))%m\n",
    "        bvector[h1]=1\n",
    "        bvector[h2]=1\n",
    "    return bvector\n",
    "\n",
    "def InBloomFilter(actor, drama, m, hs1=0, hs2=10):\n",
    "    inSet = set(list(df[\"Main Role\"])[list(df[\"Title\"]).index(drama)].split(\",\"))\n",
    "    bvector = bloomFilter(inSet, m, hs1, hs2)\n",
    "    \n",
    "    h1 = (seededHash(actor, hs1)) % m\n",
    "    h2 = (seededHash(actor, hs2)) % m\n",
    "    \n",
    "    if bvector[h1] == 1 and bvector[h2] == 1:\n",
    "        return True\n",
    "    else:\n",
    "        return False\n",
    "\n",
    "\n",
    "\n",
    "InBloomFilter(\"Park Ji Hoon\", \"Weak Hero Class 1 \" , 1000)\n",
    "\n"
   ]
  },
  {
   "cell_type": "code",
   "execution_count": 131,
   "metadata": {},
   "outputs": [
    {
     "data": {
      "text/plain": [
       "<AxesSubplot:>"
      ]
     },
     "execution_count": 131,
     "metadata": {},
     "output_type": "execute_result"
    },
    {
     "data": {
      "image/png": "[encoded data removed]",
      "text/plain": [
       "<Figure size 640x480 with 2 Axes>"
      ]
     },
     "metadata": {},
     "output_type": "display_data"
    }
   ],
   "source": [
    "#Jaccard\n",
    "import seaborn as sns\n",
    "my_sets = [set(actor.split(\",\")) for actor in df[\"Main Role\"]]\n",
    "similarity_df = pd.DataFrame(columns=range(len(my_sets)), index=range(len(my_sets)))\n",
    "\n",
    "for i, s1 in enumerate(my_sets):\n",
    "    for j, s2 in enumerate(my_sets):\n",
    "        if j > i:\n",
    "            jaccard_sim = jaccard(s1, s2)\n",
    "            similarity_df.loc[i, j] = jaccard_sim\n",
    "            similarity_df.loc[j, i] = jaccard_sim\n",
    "\n",
    "similarity_df.fillna(1, inplace=True)\n",
    "sns.heatmap(similarity_df, cmap='coolwarm', annot=True, vmin=0, vmax=1)\n"
   ]
  },
  {
   "cell_type": "code",
   "execution_count": 137,
   "metadata": {},
   "outputs": [
    {
     "data": {
      "text/plain": [
       "<AxesSubplot:>"
      ]
     },
     "execution_count": 137,
     "metadata": {},
     "output_type": "execute_result"
    },
    {
     "data": {
      "image/png": "[encoded data removed]",
      "text/plain": [
       "<Figure size 640x480 with 2 Axes>"
      ]
     },
     "metadata": {},
     "output_type": "display_data"
    }
   ],
   "source": [
    "#BFJaccard\n",
    "my_sets = [set(actor.split(\",\")) for actor in df[\"Main Role\"]]\n",
    "bf_list = []\n",
    "for s in my_sets:\n",
    "    bf = bloomFilter(s, 10000, hs1=0, hs2=10)\n",
    "    bf_list.append(bf)\n",
    "similarity= pd.DataFrame(columns=range(len(bf_list)), index=range(len(bf_list)))\n",
    "for i, bf1 in enumerate(bf_list):\n",
    "    for j, bf2 in enumerate(bf_list):\n",
    "        if j > i:\n",
    "            jbm = bf_jaccard(bf1, bf2)\n",
    "            similarity_df.loc[i, j] = jbm\n",
    "            similarity_df.loc[j, i] = jbm\n",
    "similarity_df.fillna(1, inplace=True)\n",
    "sns.heatmap(similarity_df, cmap='coolwarm', annot=True, vmin=0, vmax=1)\n"
   ]
  },
  {
   "cell_type": "code",
   "execution_count": 143,
   "metadata": {},
   "outputs": [
    {
     "data": {
      "text/plain": [
       "<AxesSubplot:>"
      ]
     },
     "execution_count": 143,
     "metadata": {},
     "output_type": "execute_result"
    },
    {
     "data": {
      "image/png": "[encoded data removed]",
      "text/plain": [
       "<Figure size 640x480 with 2 Axes>"
      ]
     },
     "metadata": {},
     "output_type": "display_data"
    }
   ],
   "source": [
    "#Minhash\n",
    "my_sets = [set(actor.split(\",\")) for actor in df[\"Main Role\"]]\n",
    "minhash_list = []\n",
    "for s in my_sets:\n",
    "    minhash_sig = minHash(s, 10, seed=None)\n",
    "    minhash_list.append(minhash_sig)\n",
    "similarity_df = pd.DataFrame(columns=range(len(minhash_list)), index=range(len(minhash_list)))\n",
    "for i, mh1 in enumerate(minhash_list):\n",
    "    for j, mh2 in enumerate(minhash_list):\n",
    "        if j > i:\n",
    "            jaccard_sim = len(mh1 & mh2) / len(mh1 | mh2)\n",
    "            similarity_df.loc[i, j] = jaccard_sim\n",
    "            similarity_df.loc[j, i] = jaccard_sim\n",
    "similarity_df.fillna(1, inplace=True)\n",
    "sns.heatmap(similarity_df, cmap='coolwarm', annot=True, vmin=0, vmax=1)"
   ]
  },
  {
   "cell_type": "code",
   "execution_count": 125,
   "metadata": {},
   "outputs": [
    {
     "ename": "FileNotFoundError",
     "evalue": "[Errno 2] No such file or directory: 'data/stringSet_0.txt'",
     "output_type": "error",
     "traceback": [
      "\u001b[0;31m---------------------------------------------------------------------------\u001b[0m",
      "\u001b[0;31mFileNotFoundError\u001b[0m                         Traceback (most recent call last)",
      "\u001b[0;32m/var/folders/n_/n3fqzqwj6lj7h3s2_hwn61b00000gn/T/ipykernel_16350/1101290495.py\u001b[0m in \u001b[0;36m<module>\u001b[0;34m\u001b[0m\n\u001b[1;32m      2\u001b[0m \u001b[0mdataset1\u001b[0m \u001b[0;34m=\u001b[0m \u001b[0mset\u001b[0m\u001b[0;34m(\u001b[0m\u001b[0;34m)\u001b[0m\u001b[0;34m\u001b[0m\u001b[0;34m\u001b[0m\u001b[0m\n\u001b[1;32m      3\u001b[0m \u001b[0;34m\u001b[0m\u001b[0m\n\u001b[0;32m----> 4\u001b[0;31m \u001b[0;32mwith\u001b[0m \u001b[0mopen\u001b[0m\u001b[0;34m(\u001b[0m\u001b[0;34m\"data/stringSet_0.txt\"\u001b[0m\u001b[0;34m)\u001b[0m \u001b[0;32mas\u001b[0m \u001b[0mmyFile\u001b[0m\u001b[0;34m:\u001b[0m \u001b[0;31m#Open the file as a 'reader'\u001b[0m\u001b[0;34m\u001b[0m\u001b[0;34m\u001b[0m\u001b[0m\n\u001b[0m\u001b[1;32m      5\u001b[0m     \u001b[0;32mfor\u001b[0m \u001b[0mline\u001b[0m \u001b[0;32min\u001b[0m \u001b[0mmyFile\u001b[0m\u001b[0;34m:\u001b[0m \u001b[0;31m# For each line in the file\u001b[0m\u001b[0;34m\u001b[0m\u001b[0;34m\u001b[0m\u001b[0m\n\u001b[1;32m      6\u001b[0m         \u001b[0;32mif\u001b[0m \u001b[0mline\u001b[0m\u001b[0;34m:\u001b[0m \u001b[0;31m# A simple way to write 'if line exists' (is non empty)\u001b[0m\u001b[0;34m\u001b[0m\u001b[0;34m\u001b[0m\u001b[0m\n",
      "\u001b[0;31mFileNotFoundError\u001b[0m: [Errno 2] No such file or directory: 'data/stringSet_0.txt'"
     ]
    }
   ],
   "source": [
    "dataset0 = set()\n",
    "dataset1 = set()\n",
    "\n",
    "with open(\"data/stringSet_0.txt\") as myFile: #Open the file as a 'reader'\n",
    "    for line in myFile: # For each line in the file\n",
    "        if line: # A simple way to write 'if line exists' (is non empty)\n",
    "            line = line.strip()\n",
    "            dataset0.add(line)\n",
    "            \n",
    "with open(\"data/stringSet_1.txt\") as myFile: #Open the file as a 'reader'\n",
    "    for line in myFile: # For each line in the file\n",
    "        if line: # A simple way to write 'if line exists' (is non empty)\n",
    "            line = line.strip()\n",
    "            dataset1.add(line)\n",
    "\n",
    "k = 10\n",
    "mh0 = minHash(dataset0, k)\n",
    "mh1 = minHash(dataset1, k)\n",
    "\n",
    "m = 6000 \n",
    "bf0 = bloomFilter(dataset0, m)\n",
    "bf1 = bloomFilter(dataset1, m)\n",
    "\n",
    "print(\"raw:\", jaccard(dataset0, dataset1)) #0.3309557774607703\n",
    "print(\"mh:\", jaccard(mh0, mh1)) #When k= 10, 0.3333333333333333\n",
    "print(\"bf:\", bf_jaccard(bf0, bf1)) #When m=6000, 0.48413747521480505"
   ]
  },
  {
   "cell_type": "code",
   "execution_count": null,
   "metadata": {},
   "outputs": [],
   "source": []
  }
 ],
 "metadata": {
  "kernelspec": {
   "display_name": "base",
   "language": "python",
   "name": "python3"
  },
  "language_info": {
   "codemirror_mode": {
    "name": "ipython",
    "version": 3
   },
   "file_extension": ".py",
   "mimetype": "text/x-python",
   "name": "python",
   "nbconvert_exporter": "python",
   "pygments_lexer": "ipython3",
   "version": "3.9.13"
  },
  "vscode": {
   "interpreter": {
    "hash": "1d35dd254a87c6aab829c04ae6e0654b5bcc06e2c42f8da454301834fa420caf"
   }
  }
 },
 "nbformat": 4,
 "nbformat_minor": 4
}
